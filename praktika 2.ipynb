{
 "cells": [
  {
   "cell_type": "code",
   "execution_count": 1,
   "metadata": {},
   "outputs": [
    {
     "name": "stdout",
     "output_type": "stream",
     "text": [
      "Enter a:5\n",
      "Enter b:4\n",
      "Enter c:6\n",
      "s= 4.541475531146237\n"
     ]
    }
   ],
   "source": [
    "import math \n",
    "a=input('Enter a:')\n",
    "a=int(a)\n",
    "b=input('Enter b:')\n",
    "b=int(b)\n",
    "c=input('Enter c:')\n",
    "c=int(c)\n",
    "p=(a+b+c)/2\n",
    "s=math.sqrt(p+(p-a)*(p-b)*(p-c))\n",
    "print ('s=',s)"
   ]
  },
  {
   "cell_type": "code",
   "execution_count": null,
   "metadata": {},
   "outputs": [
    {
     "name": "stdout",
     "output_type": "stream",
     "text": [
      "Enter a:\n"
     ]
    }
   ],
   "source": [
    "import math \n",
    "print('Enter a:')\n",
    "a=int(input())\n",
    "b=a**2\n",
    "z=b+4\n",
    "y=b/3-z/6+math.sqrt(z)/4+(math.sqrt(z*z*z))/4\n",
    "print ('y=',y)"
   ]
  },
  {
   "cell_type": "code",
   "execution_count": null,
   "metadata": {},
   "outputs": [],
   "source": [
    "print(92)\n",
    "n=input()\n",
    "x1=n%10\n",
    "x2=n//10\n",
    "m=x1*10+x2\n",
    "print(m)"
   ]
  },
  {
   "cell_type": "code",
   "execution_count": null,
   "metadata": {},
   "outputs": [],
   "source": [
    "print(92)\n",
    "n=input()\n",
    "x1=n%10\n",
    "x2=n//10\n",
    "m=x1*10+x2\n",
    "print(m)"
   ]
  },
  {
   "cell_type": "code",
   "execution_count": null,
   "metadata": {},
   "outputs": [],
   "source": [
    "print(25)\n",
    "n=input()\n",
    "x1=25%10=5\n",
    "x2=25//10=2\n",
    "m=x1*10+x2\n",
    "print(m)"
   ]
  },
  {
   "cell_type": "code",
   "execution_count": null,
   "metadata": {},
   "outputs": [],
   "source": [
    "print(25)\n",
    "n=input(25)\n",
    "x1=25%10=5\n",
    "x2=25//10=2\n",
    "m=x1*10+x2\n",
    "print(m)"
   ]
  },
  {
   "cell_type": "code",
   "execution_count": null,
   "metadata": {},
   "outputs": [],
   "source": [
    "import math \n",
    "print('100:')\n",
    "a=float(input(2))\n",
    "x1=int(a)\n",
    "x2=a%1\n",
    "b=x1/100+x2*100\n",
    "print(b)"
   ]
  },
  {
   "cell_type": "code",
   "execution_count": null,
   "metadata": {},
   "outputs": [],
   "source": []
  },
  {
   "cell_type": "code",
   "execution_count": null,
   "metadata": {},
   "outputs": [],
   "source": []
  },
  {
   "cell_type": "code",
   "execution_count": null,
   "metadata": {},
   "outputs": [],
   "source": []
  }
 ],
 "metadata": {
  "kernelspec": {
   "display_name": "Python 3",
   "language": "python",
   "name": "python3"
  },
  "language_info": {
   "codemirror_mode": {
    "name": "ipython",
    "version": 3
   },
   "file_extension": ".py",
   "mimetype": "text/x-python",
   "name": "python",
   "nbconvert_exporter": "python",
   "pygments_lexer": "ipython3",
   "version": "3.6.11"
  }
 },
 "nbformat": 4,
 "nbformat_minor": 4
}
